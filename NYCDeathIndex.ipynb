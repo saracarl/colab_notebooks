{
  "cells": [
    {
      "cell_type": "markdown",
      "metadata": {
        "id": "view-in-github",
        "colab_type": "text"
      },
      "source": [
        "<a href=\"https://colab.research.google.com/github/saracarl/colab_notebooks/blob/main/BethlehemSteelGeminiExperiments.ipynb\" target=\"_parent\"><img src=\"https://colab.research.google.com/assets/colab-badge.svg\" alt=\"Open In Colab\"/></a>"
      ]
    },
    {
      "cell_type": "markdown",
      "metadata": {
        "id": "Tce3stUlHN0L"
      },
      "source": [
        "##### Copyright 2025 Google LLC."
      ]
    },
    {
      "cell_type": "code",
      "execution_count": null,
      "metadata": {
        "cellView": "form",
        "id": "tuOe1ymfHZPu"
      },
      "outputs": [],
      "source": [
        "# @title Licensed under the Apache License, Version 2.0 (the \"License\");\n",
        "# you may not use this file except in compliance with the License.\n",
        "# You may obtain a copy of the License at\n",
        "#\n",
        "# https://www.apache.org/licenses/LICENSE-2.0\n",
        "#\n",
        "# Unless required by applicable law or agreed to in writing, software\n",
        "# distributed under the License is distributed on an \"AS IS\" BASIS,\n",
        "# WITHOUT WARRANTIES OR CONDITIONS OF ANY KIND, either express or implied.\n",
        "# See the License for the specific language governing permissions and\n",
        "# limitations under the License."
      ]
    },
    {
      "cell_type": "markdown",
      "metadata": {
        "id": "cdfdb44021cd"
      },
      "source": [
        "## 1. Set up Environment and create inference Client\n",
        "\n",
        "The first task is to install the `google-genai` [Python SDK](https://googleapis.github.io/python-genai/) and obtain an API key. If you don”t have a can get one from Google AI Studio: [Get a Gemini API key](https://aistudio.google.com/app/apikey). If you are new to Google Colab checkout the [quickstart](../quickstarts/Authentication.ipynb)).\n"
      ]
    },
    {
      "cell_type": "code",
      "execution_count": 17,
      "metadata": {
        "id": "7bb370b2609a",
        "outputId": "0fe0d892-1d09-4149-f6c3-f290afe80304",
        "colab": {
          "base_uri": "https://localhost:8080/"
        }
      },
      "outputs": [
        {
          "output_type": "stream",
          "name": "stdout",
          "text": [
            "Requirement already satisfied: google-genai>=1 in /usr/local/lib/python3.11/dist-packages (1.16.1)\n",
            "Requirement already satisfied: anyio<5.0.0,>=4.8.0 in /usr/local/lib/python3.11/dist-packages (from google-genai>=1) (4.9.0)\n",
            "Requirement already satisfied: google-auth<3.0.0,>=2.14.1 in /usr/local/lib/python3.11/dist-packages (from google-genai>=1) (2.38.0)\n",
            "Requirement already satisfied: httpx<1.0.0,>=0.28.1 in /usr/local/lib/python3.11/dist-packages (from google-genai>=1) (0.28.1)\n",
            "Requirement already satisfied: pydantic<3.0.0,>=2.0.0 in /usr/local/lib/python3.11/dist-packages (from google-genai>=1) (2.11.4)\n",
            "Requirement already satisfied: requests<3.0.0,>=2.28.1 in /usr/local/lib/python3.11/dist-packages (from google-genai>=1) (2.32.3)\n",
            "Requirement already satisfied: websockets<15.1.0,>=13.0.0 in /usr/local/lib/python3.11/dist-packages (from google-genai>=1) (15.0.1)\n",
            "Requirement already satisfied: typing-extensions<5.0.0,>=4.11.0 in /usr/local/lib/python3.11/dist-packages (from google-genai>=1) (4.13.2)\n",
            "Requirement already satisfied: idna>=2.8 in /usr/local/lib/python3.11/dist-packages (from anyio<5.0.0,>=4.8.0->google-genai>=1) (3.10)\n",
            "Requirement already satisfied: sniffio>=1.1 in /usr/local/lib/python3.11/dist-packages (from anyio<5.0.0,>=4.8.0->google-genai>=1) (1.3.1)\n",
            "Requirement already satisfied: cachetools<6.0,>=2.0.0 in /usr/local/lib/python3.11/dist-packages (from google-auth<3.0.0,>=2.14.1->google-genai>=1) (5.5.2)\n",
            "Requirement already satisfied: pyasn1-modules>=0.2.1 in /usr/local/lib/python3.11/dist-packages (from google-auth<3.0.0,>=2.14.1->google-genai>=1) (0.4.2)\n",
            "Requirement already satisfied: rsa<5,>=3.1.4 in /usr/local/lib/python3.11/dist-packages (from google-auth<3.0.0,>=2.14.1->google-genai>=1) (4.9.1)\n",
            "Requirement already satisfied: certifi in /usr/local/lib/python3.11/dist-packages (from httpx<1.0.0,>=0.28.1->google-genai>=1) (2025.4.26)\n",
            "Requirement already satisfied: httpcore==1.* in /usr/local/lib/python3.11/dist-packages (from httpx<1.0.0,>=0.28.1->google-genai>=1) (1.0.9)\n",
            "Requirement already satisfied: h11>=0.16 in /usr/local/lib/python3.11/dist-packages (from httpcore==1.*->httpx<1.0.0,>=0.28.1->google-genai>=1) (0.16.0)\n",
            "Requirement already satisfied: annotated-types>=0.6.0 in /usr/local/lib/python3.11/dist-packages (from pydantic<3.0.0,>=2.0.0->google-genai>=1) (0.7.0)\n",
            "Requirement already satisfied: pydantic-core==2.33.2 in /usr/local/lib/python3.11/dist-packages (from pydantic<3.0.0,>=2.0.0->google-genai>=1) (2.33.2)\n",
            "Requirement already satisfied: typing-inspection>=0.4.0 in /usr/local/lib/python3.11/dist-packages (from pydantic<3.0.0,>=2.0.0->google-genai>=1) (0.4.1)\n",
            "Requirement already satisfied: charset-normalizer<4,>=2 in /usr/local/lib/python3.11/dist-packages (from requests<3.0.0,>=2.28.1->google-genai>=1) (3.4.2)\n",
            "Requirement already satisfied: urllib3<3,>=1.21.1 in /usr/local/lib/python3.11/dist-packages (from requests<3.0.0,>=2.28.1->google-genai>=1) (2.4.0)\n",
            "Requirement already satisfied: pyasn1<0.7.0,>=0.6.1 in /usr/local/lib/python3.11/dist-packages (from pyasn1-modules>=0.2.1->google-auth<3.0.0,>=2.14.1->google-genai>=1) (0.6.1)\n"
          ]
        }
      ],
      "source": [
        "%pip install \"google-genai>=1\""
      ]
    },
    {
      "cell_type": "markdown",
      "metadata": {
        "id": "d23fd7166d83"
      },
      "source": [
        "Once you have the SDK and API key, you can create a client and define the model you are going to use the new Gemini 2.0 Flash model, which is available via [free tier](https://ai.google.dev/pricing#2_0flash) with 1,500 request per day (at 2025-02-06)."
      ]
    },
    {
      "cell_type": "code",
      "execution_count": 18,
      "metadata": {
        "id": "4cf581eca5ef"
      },
      "outputs": [],
      "source": [
        "from google import genai\n",
        "from google.colab import userdata\n",
        "api_key = userdata.get(\"GOOGLE_API_KEY\") # If you are not using Colab you can set the API key directly\n",
        "\n",
        "# Create a client\n",
        "client = genai.Client(api_key=api_key)\n",
        "\n",
        "# Define the model you are going to use\n",
        "model_id =  \"gemini-2.0-flash\" # or \"gemini-2.0-flash-lite\"  , \"gemini-2.5-flash-preview-05-20\",\"gemini-2.5-pro-preview-05-06\""
      ]
    },
    {
      "cell_type": "markdown",
      "metadata": {
        "id": "7403eae04304"
      },
      "source": [
        "*Note: If you want to use Vertex AI see [here](https://googleapis.github.io/python-genai/#create-a-client) how to create your client*"
      ]
    },
    {
      "cell_type": "markdown",
      "metadata": {
        "id": "e68aefb88671"
      },
      "source": [
        "## 2. Work with cropped images\n",
        "\n",
        "Gemini models are able to process [images and videos](https://ai.google.dev/gemini-api/docs/vision?lang=python#image-input), which can used with base64 strings or using the `files`api. After uploading the file you can include the file uri in the call directly. The Python API includes a [upload](https://googleapis.github.io/python-genai/#upload) and [delete](https://googleapis.github.io/python-genai/#delete) method.\n",
        "\n"
      ]
    },
    {
      "cell_type": "code",
      "execution_count": 19,
      "metadata": {
        "id": "37e99d94e05b"
      },
      "outputs": [],
      "source": [
        "!wget -q -O aperturecard1.jpg https://fromthepage.com/image-service/35006126//7222,5495,1715,894/1280,/0/default.jpg\n",
        "!wget -q -O aperturecard2.jpg https://fromthepage.com/image-service/35006125//7222,5495,1715,894/1280,/0/default.jpg\n",
        "!wget -q -O aperturecard3.jpg https://fromthepage.com/image-service/35006124//7222,5495,1715,894/1280,/0/default.jpg"
      ]
    },
    {
      "cell_type": "markdown",
      "metadata": {
        "id": "9e451e09e1e1"
      },
      "source": [
        "You can now upload the files using our client with the `upload` method. Let's try this for one of the files.\n"
      ]
    },
    {
      "cell_type": "code",
      "execution_count": null,
      "metadata": {
        "id": "a26a622caec8"
      },
      "outputs": [],
      "source": [
        "card1 = client.files.upload(file=\"aperturecard1.jpg\", config={'display_name': 'card1'})\n",
        "card2 = client.files.upload(file=\"aperturecard2.jpg\", config={'display_name': 'card2'})\n",
        "card3 = client.files.upload(file=\"aperturecard3.jpg\", config={'display_name': 'card3'})"
      ]
    },
    {
      "cell_type": "markdown",
      "metadata": {
        "id": "c02e316f6b80"
      },
      "source": [
        "_Note: The File API lets you store up to 20 GB of files per project, with a per-file maximum size of 2 GB. Files are stored for 48 hours. They can be accessed in that period with your API key, but they cannot be downloaded. File uploads are available at no cost._\n",
        "\n",
        "After a file is uploaded you can check to how many tokens it got converted. This not only help us understand the context you are working with it also helps to keep track of the cost."
      ]
    },
    {
      "cell_type": "code",
      "execution_count": null,
      "metadata": {
        "id": "268cecdab1b4",
        "outputId": "6c1565be-acf7-4fb5-eeec-a8245f66e8ed",
        "colab": {
          "base_uri": "https://localhost:8080/"
        }
      },
      "outputs": [
        {
          "output_type": "stream",
          "name": "stdout",
          "text": [
            "File: card1 equals to 259 tokens\n",
            "File: card2 equals to 259 tokens\n",
            "File: card3 equals to 259 tokens\n"
          ]
        }
      ],
      "source": [
        "file_size = client.models.count_tokens(model=model_id,contents=card1)\n",
        "print(f'File: {card1.display_name} equals to {file_size.total_tokens} tokens')\n",
        "file_size = client.models.count_tokens(model=model_id,contents=card2)\n",
        "print(f'File: {card2.display_name} equals to {file_size.total_tokens} tokens')\n",
        "file_size = client.models.count_tokens(model=model_id,contents=card3)\n",
        "print(f'File: {card3.display_name} equals to {file_size.total_tokens} tokens')\n"
      ]
    },
    {
      "cell_type": "markdown",
      "metadata": {
        "id": "13215cead66e"
      },
      "source": [
        "## 3. Structured outputs with Gemini 2.0 and Pydantic\n",
        "\n",
        "Structured Outputs is a feature that ensures Gemini always generate responses that adhere to a predefined format, such as JSON Schema. This means you have more control over the output and how to integrate it into our application as it is guaranteed to return a valid JSON object with the schema you define.\n",
        "\n",
        "Gemini 2.0 currenlty supports 3 dfferent types of how to define a JSON schemas:\n",
        "- A single python type, as you would use in a [typing annotation](https://docs.python.org/3/library/typing.html).\n",
        "- A Pydantic [BaseModel](https://docs.pydantic.dev/latest/concepts/models/)\n",
        "- A dict equivalent of [genai.types.Schema](https://googleapis.github.io/python-genai/genai.html#genai.types.Schema) / [Pydantic BaseModel](https://docs.pydantic.dev/latest/concepts/models/)\n"
      ]
    },
    {
      "cell_type": "code",
      "source": [
        "# prompt: Display the results as a table in formatted markdown using display(Markdown)\n",
        "\n",
        "def display_results(result, image_name, image_url):\n",
        "  from IPython.display import display, Markdown\n",
        "\n",
        "  # Assuming 'result' is an instance of the Metadata model\n",
        "  # Convert the Pydantic model to a dictionary\n",
        "  result_dict = result.model_dump()\n",
        "\n",
        "  # Create the markdown table header\n",
        "  markdown_table = \"| Field | Value |\\n\"\n",
        "  markdown_table += \"|---|---|\\n\"\n",
        "\n",
        "  # Add rows to the markdown table\n",
        "  for field, value in result_dict.items():\n",
        "      # Escape potential markdown characters in the value\n",
        "      safe_value = str(value).replace('|', '\\\\|').replace('\\n', '<br/>')\n",
        "      markdown_table += f\"| {field.replace('_', ' ').title()} | {safe_value} |\\n\"\n",
        "\n",
        "  #display(Markdown(\"### card1.jpg \\n ![card1.jpg](https://fromthepage.com/image-service/35006126//7222,5495,1715,894/1280,/0/default.jpg)\"))\n",
        "  display(Markdown(f\"### {image_name} \\n ![{image_name}]({image_url})\"))\n",
        "  display(Markdown(markdown_table))\n",
        "\n"
      ],
      "metadata": {
        "id": "dxdZaq4EK-NP"
      },
      "execution_count": 20,
      "outputs": []
    },
    {
      "cell_type": "markdown",
      "metadata": {
        "id": "98ba7c85f7a4"
      },
      "source": [
        "## 4. Extract Structured data from images using Gemini 2.0\n",
        "\n",
        "Now, let's combine the File API and structured output to extract information from our files. You can create a simple method that accepts a local file path and a pydantic model and return the structured data for us. The method will:\n",
        "\n",
        "1. Upload the file to the File API\n",
        "2. Generate a structured response using the Gemini API\n",
        "3. Convert the response to the pydantic model and return it\n"
      ]
    },
    {
      "cell_type": "code",
      "execution_count": 21,
      "metadata": {
        "id": "e3c8f5b59da8"
      },
      "outputs": [],
      "source": [
        "def process_cards(client, filename, file_url):\n",
        "  from pydantic import BaseModel, Field\n",
        "\n",
        "  class Metadata(BaseModel):\n",
        "      header: str = Field(description=\"The header from the title block, usually Bethlehem Steel Company\")\n",
        "      location: str = Field(description=\"The location from the title block, usually South Bethlehem, PA, U.S.A.\")\n",
        "      for_whom: str = Field(description=\"customer the design was for\")\n",
        "      place: str = Field(description=\"location of the customer\")\n",
        "      job: str = Field(description=\"job description\")\n",
        "      part: str = Field(description=\"part description\")\n",
        "      job_no: str = Field(description=\"job number\")\n",
        "      scale: str = Field(description=\"scale of the design\")\n",
        "      approved: str = Field(description=\"who approved the design\")\n",
        "\n",
        "  file = client.files.upload(file=filename, config={'display_name': filename.split('/')[-1].split('.')[0]})\n",
        "  #file = filename\n",
        "  # Generate a structured response using the Gemini API\n",
        "  prompt = f\"You are a historian and need to extract the data in this image. It is from a title block from an engineering drawing. The text may be typed or handwritten and must be transcribed. Using your ability to transcribe both handwriting and printed text, extract all text as structured data. Try your best to capture the text faithfully. DO NOT fabricate text where there is none in the original image. Instead, indicate this with the string not filled. You MUST capture all text that you see on the card. DO NOT omit any text.\"\n",
        "  response = client.models.generate_content(model=model_id, contents=[prompt, file], config={'response_mime_type': 'application/json', 'response_schema': Metadata})\n",
        "  # Convert the response to the pydantic model and return it\n",
        "  result = response.parsed\n",
        "\n",
        "  #result = extract_structured_data(filename, Metadata)\n",
        "  print(type(result))\n",
        "  #print(f\"Extracted Metadata: {result}\")\n",
        "  display_results(result, filename, file_url)"
      ]
    },
    {
      "cell_type": "code",
      "source": [
        "process_cards(client, \"aperturecard1.jpg\",\"https://fromthepage.com/image-service/35006126//7222,5495,1715,894/1280,/0/default.jpg\")"
      ],
      "metadata": {
        "id": "byrnIhRQSq1C",
        "outputId": "4475bb68-1454-4434-9e0f-2d9b0f7157f7",
        "colab": {
          "base_uri": "https://localhost:8080/",
          "height": 1000
        }
      },
      "execution_count": 22,
      "outputs": [
        {
          "output_type": "stream",
          "name": "stdout",
          "text": [
            "<class '__main__.process_cards.<locals>.Metadata'>\n"
          ]
        },
        {
          "output_type": "display_data",
          "data": {
            "text/plain": [
              "<IPython.core.display.Markdown object>"
            ],
            "text/markdown": "### aperturecard1.jpg \n ![aperturecard1.jpg](https://fromthepage.com/image-service/35006126//7222,5495,1715,894/1280,/0/default.jpg)"
          },
          "metadata": {}
        },
        {
          "output_type": "display_data",
          "data": {
            "text/plain": [
              "<IPython.core.display.Markdown object>"
            ],
            "text/markdown": "| Field | Value |\n|---|---|\n| Header | BETHLEHEM STEEL COMPANY |\n| Location | SOUTH BETHLEHEM, PR., U.S.A. |\n| For Whom | CHASE ROLLING MILL. |\n| Place | not filled |\n| Job | # 16 GAS ENGINE |\n| Part | SPECIAL CYLINDER |\n| Job No | 47930 |\n| Scale | 3' + 6\" = 1 FOOT |\n| Approved | Alhus B. Haws |\n"
          },
          "metadata": {}
        }
      ]
    },
    {
      "cell_type": "code",
      "source": [
        "process_cards(client, \"aperturecard2.jpg\",\"https://fromthepage.com/image-service/35006125//7222,5495,1715,894/1280,/0/default.jpg\")"
      ],
      "metadata": {
        "id": "e8mA96N1TFK9",
        "outputId": "0c4b2db7-0942-4814-d282-570715975158",
        "colab": {
          "base_uri": "https://localhost:8080/",
          "height": 1000
        }
      },
      "execution_count": 23,
      "outputs": [
        {
          "output_type": "stream",
          "name": "stdout",
          "text": [
            "<class '__main__.process_cards.<locals>.Metadata'>\n"
          ]
        },
        {
          "output_type": "display_data",
          "data": {
            "text/plain": [
              "<IPython.core.display.Markdown object>"
            ],
            "text/markdown": "### aperturecard2.jpg \n ![aperturecard2.jpg](https://fromthepage.com/image-service/35006125//7222,5495,1715,894/1280,/0/default.jpg)"
          },
          "metadata": {}
        },
        {
          "output_type": "display_data",
          "data": {
            "text/plain": [
              "<IPython.core.display.Markdown object>"
            ],
            "text/markdown": "| Field | Value |\n|---|---|\n| Header | BETHLEHEM STEEL COMPANY, |\n| Location | SOUTH BETHLEHEM, PA, U. S. A. |\n| For Whom | BETHLEHEM STEEL CO |\n| Place | not filled |\n| Job | 21'-0 x 30'-0\" CAR BOTTOM HEATING FURNACE |\n| Part | 27\" REVERSING VALVE-DETAILS |\n| Job No | 10030 |\n| Scale | 3/4\" = 1 FOOT |\n| Approved | Chas.E.Kohn |\n"
          },
          "metadata": {}
        }
      ]
    },
    {
      "cell_type": "code",
      "source": [
        "process_cards(client, \"aperturecard3.jpg\",\"https://fromthepage.com/image-service/35006124//7222,5495,1715,894/1280,/0/default.jpg\")"
      ],
      "metadata": {
        "id": "qVw5pKKoTQxU",
        "outputId": "963c7884-6984-42d6-c2c2-cb644e6f1f7f",
        "colab": {
          "base_uri": "https://localhost:8080/",
          "height": 1000
        }
      },
      "execution_count": 25,
      "outputs": [
        {
          "output_type": "stream",
          "name": "stdout",
          "text": [
            "<class '__main__.process_cards.<locals>.Metadata'>\n"
          ]
        },
        {
          "output_type": "display_data",
          "data": {
            "text/plain": [
              "<IPython.core.display.Markdown object>"
            ],
            "text/markdown": "### aperturecard3.jpg \n ![aperturecard3.jpg](https://fromthepage.com/image-service/35006124//7222,5495,1715,894/1280,/0/default.jpg)"
          },
          "metadata": {}
        },
        {
          "output_type": "display_data",
          "data": {
            "text/plain": [
              "<IPython.core.display.Markdown object>"
            ],
            "text/markdown": "| Field | Value |\n|---|---|\n| Header | BETHLEHEM STEEL COMPANY, |\n| Location | SOUTH BETHLEHEM, PA., U. S. A. |\n| For Whom | BETHLEHEM STEEL CO. |\n| Place | not filled |\n| Job | DOUBLE 50½ FORGING PRESS |\n| Part | MAIN PIPES FOR PRESS CYLINDER |\n| Job No | 3515 |\n| Scale | 1½ & 3\"-1 FOOT |\n| Approved | chas. terkel |\n"
          },
          "metadata": {}
        }
      ]
    }
  ],
  "metadata": {
    "colab": {
      "name": "Pdf_structured_outputs_on_invoices_and_forms.ipynb",
      "provenance": [],
      "include_colab_link": true
    },
    "kernelspec": {
      "display_name": "Python 3",
      "name": "python3"
    }
  },
  "nbformat": 4,
  "nbformat_minor": 0
}